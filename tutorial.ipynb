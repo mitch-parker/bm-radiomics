{
 "cells": [
  {
   "cell_type": "markdown",
   "id": "b9875d36-d960-439a-aea9-683e2af8a018",
   "metadata": {},
   "source": [
    "# Brain Metastasis (BM) Radiomics Tutorial"
   ]
  },
  {
   "cell_type": "markdown",
   "id": "ed9c1285-2f4a-4ee3-8a86-1e46a34f75e4",
   "metadata": {},
   "source": [
    "Below are some resources used in this tutorial:\n",
    "1. [The Cancer Imaging Archive (TCIA) Utils](https://github.com/kirbyju/tcia_utils): For downloading DICOM files from TCIA.\n",
    "2. [PyRaDiSe](https://github.com/ubern-mia/pyradise): For converting DICOM files to NIfTI format.\n",
    "3. [PyRadiomics](https://github.com/AIM-Harvard/pyradiomics): For extracting radiomics features from NIfTI image and segmentation files.\n",
    "4. [Foundation Model for Cancer Imaging Biomarkers (FMCIB)](https://github.com/AIM-Harvard/foundation-cancer-image-biomarker): For extracting features based on pre-trained foundation model from NIfTI image files given segmentation seed points."
   ]
  },
  {
   "cell_type": "markdown",
   "id": "8a637e4f-5020-4c16-b255-1492083d2fbf",
   "metadata": {},
   "source": [
    "## Imports"
   ]
  },
  {
   "cell_type": "code",
   "execution_count": 2,
   "id": "1d02cd55-8935-4990-ab2b-acf2e407b22f",
   "metadata": {},
   "outputs": [],
   "source": [
    "# General\n",
    "import os\n",
    "from urllib.request import urlretrieve\n",
    "import pandas as pd\n",
    "from tqdm import tqdm\n",
    "from concurrent.futures import ProcessPoolExecutor, as_completed\n",
    "\n",
    "# TCIA Utils\n",
    "from tcia_utils import nbia\n",
    "\n",
    "# PyRaDiSe\n",
    "import pyradise.fileio as ps_io\n",
    "\n",
    "# PyRadiomics\n",
    "from radiomics import featureextractor\n",
    "\n",
    "# FMCIB\n",
    "from fmcib.run import get_features\n",
    "from fmcib.visualization import visualize_seed_point"
   ]
  },
  {
   "cell_type": "markdown",
   "id": "392b338d-c172-4931-b9fb-442722917e93",
   "metadata": {},
   "source": [
    "## Table of Contents"
   ]
  },
  {
   "cell_type": "markdown",
   "id": "a491d6b9-b82d-4997-9cdb-0d00836e2707",
   "metadata": {},
   "source": [
    "1. Prepare BM Dataset from TCIA\n",
    "2. Download DICOM Files from TCIA\n",
    "3. Convert DICOM Files to NIfTI Format\n",
    "4. Extract PyRadiomics Features from NIfTI Files\n",
    "5. Extract FMCIB Features from NIfTI Files\n",
    "6. Predict Outputs Based On Radiomic Features"
   ]
  },
  {
   "cell_type": "markdown",
   "id": "df52df07-c4da-4803-8b41-aa3dcd12cabe",
   "metadata": {},
   "source": [
    "## 1. Prepare BM Dataset from TCIA"
   ]
  },
  {
   "cell_type": "markdown",
   "id": "28553659-dbd0-4b64-b349-3eed078ca2fe",
   "metadata": {},
   "source": [
    "## 2. Download DICOM Files from TCIA"
   ]
  },
  {
   "cell_type": "markdown",
   "id": "9057a7df-7672-4fb9-a937-63528b8eaf8b",
   "metadata": {},
   "source": [
    "## 3. Convert DICOM Files to NIfTI Format"
   ]
  },
  {
   "cell_type": "markdown",
   "id": "baa70597-7845-4fb1-b55d-f6b1bccbc66f",
   "metadata": {},
   "source": [
    "## 4. Extract PyRadiomics Features from NIfTI Files"
   ]
  },
  {
   "cell_type": "markdown",
   "id": "6df00eaa-59dd-42a6-bf78-bf72498c535f",
   "metadata": {},
   "source": [
    "## 5. Extract FMCIB Features from NIfTI Files"
   ]
  },
  {
   "cell_type": "markdown",
   "id": "f812e8bf-f0f1-4efc-ade6-77fa02f69664",
   "metadata": {},
   "source": [
    "## 6. Predict Outputs Based On Radiomic Features"
   ]
  },
  {
   "cell_type": "code",
   "execution_count": null,
   "id": "ca621333-d82b-40f2-af18-cd6704f2cc9e",
   "metadata": {},
   "outputs": [],
   "source": []
  }
 ],
 "metadata": {
  "kernelspec": {
   "display_name": "bm_radiomics_env",
   "language": "python",
   "name": "bm_radiomics_env"
  },
  "language_info": {
   "codemirror_mode": {
    "name": "ipython",
    "version": 3
   },
   "file_extension": ".py",
   "mimetype": "text/x-python",
   "name": "python",
   "nbconvert_exporter": "python",
   "pygments_lexer": "ipython3",
   "version": "3.10.0"
  }
 },
 "nbformat": 4,
 "nbformat_minor": 5
}
